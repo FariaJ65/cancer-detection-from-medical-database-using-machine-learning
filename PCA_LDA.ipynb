{
 "cells": [
  {
   "cell_type": "code",
   "execution_count": 2,
   "metadata": {},
   "outputs": [],
   "source": [
    "import numpy as np\n",
    "import matplotlib.pyplot as plt\n",
    "import pandas as pd\n",
    "\n",
    "from sklearn.decomposition import PCA\n",
    "from sklearn.discriminant_analysis import LinearDiscriminantAnalysis\n"
   ]
  },
  {
   "cell_type": "code",
   "execution_count": 3,
   "metadata": {},
   "outputs": [],
   "source": [
    "dataset=pd.read_csv(\"Abnormality.csv\")"
   ]
  },
  {
   "cell_type": "code",
   "execution_count": 4,
   "metadata": {},
   "outputs": [
    {
     "data": {
      "text/html": [
       "<div>\n",
       "<style scoped>\n",
       "    .dataframe tbody tr th:only-of-type {\n",
       "        vertical-align: middle;\n",
       "    }\n",
       "\n",
       "    .dataframe tbody tr th {\n",
       "        vertical-align: top;\n",
       "    }\n",
       "\n",
       "    .dataframe thead th {\n",
       "        text-align: right;\n",
       "    }\n",
       "</style>\n",
       "<table border=\"1\" class=\"dataframe\">\n",
       "  <thead>\n",
       "    <tr style=\"text-align: right;\">\n",
       "      <th></th>\n",
       "      <th>patient</th>\n",
       "      <th>features</th>\n",
       "      <th>features.1</th>\n",
       "      <th>features.2</th>\n",
       "      <th>features.3</th>\n",
       "      <th>features.4</th>\n",
       "      <th>features.5</th>\n",
       "      <th>features.6</th>\n",
       "      <th>features.7</th>\n",
       "      <th>features.8</th>\n",
       "      <th>...</th>\n",
       "      <th>features.109</th>\n",
       "      <th>features.110</th>\n",
       "      <th>features.111</th>\n",
       "      <th>features.112</th>\n",
       "      <th>features.113</th>\n",
       "      <th>features.114</th>\n",
       "      <th>features.115</th>\n",
       "      <th>features.116</th>\n",
       "      <th>features.117</th>\n",
       "      <th>class</th>\n",
       "    </tr>\n",
       "  </thead>\n",
       "  <tbody>\n",
       "    <tr>\n",
       "      <th>0</th>\n",
       "      <td>abnormality1</td>\n",
       "      <td>0.193085</td>\n",
       "      <td>0.452288</td>\n",
       "      <td>0.415949</td>\n",
       "      <td>0.139162</td>\n",
       "      <td>0.193064</td>\n",
       "      <td>0.473900</td>\n",
       "      <td>0.453628</td>\n",
       "      <td>0.226506</td>\n",
       "      <td>0.486974</td>\n",
       "      <td>...</td>\n",
       "      <td>0.325062</td>\n",
       "      <td>0.390048</td>\n",
       "      <td>0.068589</td>\n",
       "      <td>0.239278</td>\n",
       "      <td>0.325062</td>\n",
       "      <td>0.221802</td>\n",
       "      <td>0.325062</td>\n",
       "      <td>0.112128</td>\n",
       "      <td>0.068589</td>\n",
       "      <td>1</td>\n",
       "    </tr>\n",
       "    <tr>\n",
       "      <th>1</th>\n",
       "      <td>abnormality2</td>\n",
       "      <td>0.455707</td>\n",
       "      <td>0.400769</td>\n",
       "      <td>0.232735</td>\n",
       "      <td>0.043859</td>\n",
       "      <td>0.171187</td>\n",
       "      <td>0.397085</td>\n",
       "      <td>0.435364</td>\n",
       "      <td>0.198269</td>\n",
       "      <td>0.478201</td>\n",
       "      <td>...</td>\n",
       "      <td>0.415000</td>\n",
       "      <td>0.152374</td>\n",
       "      <td>0.009217</td>\n",
       "      <td>0.231085</td>\n",
       "      <td>0.415000</td>\n",
       "      <td>0.130759</td>\n",
       "      <td>0.415000</td>\n",
       "      <td>0.085114</td>\n",
       "      <td>0.009217</td>\n",
       "      <td>1</td>\n",
       "    </tr>\n",
       "    <tr>\n",
       "      <th>2</th>\n",
       "      <td>abnormality3</td>\n",
       "      <td>0.216496</td>\n",
       "      <td>0.322787</td>\n",
       "      <td>0.321861</td>\n",
       "      <td>0.025466</td>\n",
       "      <td>0.351955</td>\n",
       "      <td>0.304562</td>\n",
       "      <td>0.190576</td>\n",
       "      <td>0.242715</td>\n",
       "      <td>0.059984</td>\n",
       "      <td>...</td>\n",
       "      <td>0.588951</td>\n",
       "      <td>0.264538</td>\n",
       "      <td>0.233772</td>\n",
       "      <td>0.360888</td>\n",
       "      <td>0.588951</td>\n",
       "      <td>0.343463</td>\n",
       "      <td>0.588951</td>\n",
       "      <td>0.207494</td>\n",
       "      <td>0.233772</td>\n",
       "      <td>1</td>\n",
       "    </tr>\n",
       "    <tr>\n",
       "      <th>3</th>\n",
       "      <td>abnormality4</td>\n",
       "      <td>0.103720</td>\n",
       "      <td>0.287073</td>\n",
       "      <td>0.297168</td>\n",
       "      <td>0.069759</td>\n",
       "      <td>0.341625</td>\n",
       "      <td>0.322145</td>\n",
       "      <td>0.197875</td>\n",
       "      <td>0.327782</td>\n",
       "      <td>0.683889</td>\n",
       "      <td>...</td>\n",
       "      <td>0.219669</td>\n",
       "      <td>0.205674</td>\n",
       "      <td>0.121860</td>\n",
       "      <td>0.140276</td>\n",
       "      <td>0.219669</td>\n",
       "      <td>0.043324</td>\n",
       "      <td>0.219669</td>\n",
       "      <td>0.016444</td>\n",
       "      <td>0.121860</td>\n",
       "      <td>0</td>\n",
       "    </tr>\n",
       "    <tr>\n",
       "      <th>4</th>\n",
       "      <td>abnormality5</td>\n",
       "      <td>0.180818</td>\n",
       "      <td>0.309175</td>\n",
       "      <td>0.204455</td>\n",
       "      <td>0.213910</td>\n",
       "      <td>0.257745</td>\n",
       "      <td>0.465277</td>\n",
       "      <td>0.274290</td>\n",
       "      <td>0.177519</td>\n",
       "      <td>0.218036</td>\n",
       "      <td>...</td>\n",
       "      <td>0.199044</td>\n",
       "      <td>0.056704</td>\n",
       "      <td>0.122244</td>\n",
       "      <td>0.547757</td>\n",
       "      <td>0.199044</td>\n",
       "      <td>0.273875</td>\n",
       "      <td>0.199044</td>\n",
       "      <td>0.468982</td>\n",
       "      <td>0.122244</td>\n",
       "      <td>1</td>\n",
       "    </tr>\n",
       "    <tr>\n",
       "      <th>...</th>\n",
       "      <td>...</td>\n",
       "      <td>...</td>\n",
       "      <td>...</td>\n",
       "      <td>...</td>\n",
       "      <td>...</td>\n",
       "      <td>...</td>\n",
       "      <td>...</td>\n",
       "      <td>...</td>\n",
       "      <td>...</td>\n",
       "      <td>...</td>\n",
       "      <td>...</td>\n",
       "      <td>...</td>\n",
       "      <td>...</td>\n",
       "      <td>...</td>\n",
       "      <td>...</td>\n",
       "      <td>...</td>\n",
       "      <td>...</td>\n",
       "      <td>...</td>\n",
       "      <td>...</td>\n",
       "      <td>...</td>\n",
       "      <td>...</td>\n",
       "    </tr>\n",
       "    <tr>\n",
       "      <th>92</th>\n",
       "      <td>abnormality93</td>\n",
       "      <td>0.704218</td>\n",
       "      <td>0.441169</td>\n",
       "      <td>0.473228</td>\n",
       "      <td>0.160781</td>\n",
       "      <td>0.249248</td>\n",
       "      <td>0.535597</td>\n",
       "      <td>0.228981</td>\n",
       "      <td>0.155537</td>\n",
       "      <td>0.402664</td>\n",
       "      <td>...</td>\n",
       "      <td>0.424211</td>\n",
       "      <td>0.167415</td>\n",
       "      <td>0.164574</td>\n",
       "      <td>0.266798</td>\n",
       "      <td>0.424211</td>\n",
       "      <td>0.268330</td>\n",
       "      <td>0.424211</td>\n",
       "      <td>0.039538</td>\n",
       "      <td>0.164574</td>\n",
       "      <td>0</td>\n",
       "    </tr>\n",
       "    <tr>\n",
       "      <th>93</th>\n",
       "      <td>abnormality94</td>\n",
       "      <td>0.009908</td>\n",
       "      <td>0.610792</td>\n",
       "      <td>0.091674</td>\n",
       "      <td>0.013564</td>\n",
       "      <td>0.082230</td>\n",
       "      <td>0.333644</td>\n",
       "      <td>0.473475</td>\n",
       "      <td>0.330545</td>\n",
       "      <td>0.350644</td>\n",
       "      <td>...</td>\n",
       "      <td>0.458550</td>\n",
       "      <td>0.364114</td>\n",
       "      <td>0.124643</td>\n",
       "      <td>0.527569</td>\n",
       "      <td>0.458550</td>\n",
       "      <td>0.288735</td>\n",
       "      <td>0.458550</td>\n",
       "      <td>0.246396</td>\n",
       "      <td>0.124643</td>\n",
       "      <td>0</td>\n",
       "    </tr>\n",
       "    <tr>\n",
       "      <th>94</th>\n",
       "      <td>abnormality95</td>\n",
       "      <td>0.315815</td>\n",
       "      <td>0.438394</td>\n",
       "      <td>0.471392</td>\n",
       "      <td>0.050065</td>\n",
       "      <td>0.028890</td>\n",
       "      <td>0.416679</td>\n",
       "      <td>0.320198</td>\n",
       "      <td>0.310576</td>\n",
       "      <td>0.477753</td>\n",
       "      <td>...</td>\n",
       "      <td>0.004295</td>\n",
       "      <td>0.264463</td>\n",
       "      <td>0.205981</td>\n",
       "      <td>0.345524</td>\n",
       "      <td>0.004295</td>\n",
       "      <td>0.402601</td>\n",
       "      <td>0.004295</td>\n",
       "      <td>0.169348</td>\n",
       "      <td>0.205981</td>\n",
       "      <td>0</td>\n",
       "    </tr>\n",
       "    <tr>\n",
       "      <th>95</th>\n",
       "      <td>abnormality96</td>\n",
       "      <td>0.494521</td>\n",
       "      <td>0.387770</td>\n",
       "      <td>0.417113</td>\n",
       "      <td>0.240611</td>\n",
       "      <td>0.013166</td>\n",
       "      <td>0.513736</td>\n",
       "      <td>0.311139</td>\n",
       "      <td>0.270945</td>\n",
       "      <td>0.490570</td>\n",
       "      <td>...</td>\n",
       "      <td>0.342005</td>\n",
       "      <td>0.106542</td>\n",
       "      <td>0.058091</td>\n",
       "      <td>0.323474</td>\n",
       "      <td>0.342005</td>\n",
       "      <td>0.251820</td>\n",
       "      <td>0.342005</td>\n",
       "      <td>0.017518</td>\n",
       "      <td>0.058091</td>\n",
       "      <td>0</td>\n",
       "    </tr>\n",
       "    <tr>\n",
       "      <th>96</th>\n",
       "      <td>abnormality97</td>\n",
       "      <td>0.418626</td>\n",
       "      <td>0.462840</td>\n",
       "      <td>0.514597</td>\n",
       "      <td>0.049919</td>\n",
       "      <td>0.084683</td>\n",
       "      <td>0.447421</td>\n",
       "      <td>0.177994</td>\n",
       "      <td>0.221872</td>\n",
       "      <td>0.573770</td>\n",
       "      <td>...</td>\n",
       "      <td>0.776963</td>\n",
       "      <td>0.092422</td>\n",
       "      <td>0.184247</td>\n",
       "      <td>0.208823</td>\n",
       "      <td>0.776963</td>\n",
       "      <td>0.242964</td>\n",
       "      <td>0.776963</td>\n",
       "      <td>0.075716</td>\n",
       "      <td>0.184247</td>\n",
       "      <td>0</td>\n",
       "    </tr>\n",
       "  </tbody>\n",
       "</table>\n",
       "<p>97 rows × 120 columns</p>\n",
       "</div>"
      ],
      "text/plain": [
       "          patient  features  features.1  features.2  features.3  features.4  \\\n",
       "0    abnormality1  0.193085    0.452288    0.415949    0.139162    0.193064   \n",
       "1    abnormality2  0.455707    0.400769    0.232735    0.043859    0.171187   \n",
       "2    abnormality3  0.216496    0.322787    0.321861    0.025466    0.351955   \n",
       "3    abnormality4  0.103720    0.287073    0.297168    0.069759    0.341625   \n",
       "4    abnormality5  0.180818    0.309175    0.204455    0.213910    0.257745   \n",
       "..            ...       ...         ...         ...         ...         ...   \n",
       "92  abnormality93  0.704218    0.441169    0.473228    0.160781    0.249248   \n",
       "93  abnormality94  0.009908    0.610792    0.091674    0.013564    0.082230   \n",
       "94  abnormality95  0.315815    0.438394    0.471392    0.050065    0.028890   \n",
       "95  abnormality96  0.494521    0.387770    0.417113    0.240611    0.013166   \n",
       "96  abnormality97  0.418626    0.462840    0.514597    0.049919    0.084683   \n",
       "\n",
       "    features.5  features.6  features.7  features.8  ...  features.109  \\\n",
       "0     0.473900    0.453628    0.226506    0.486974  ...      0.325062   \n",
       "1     0.397085    0.435364    0.198269    0.478201  ...      0.415000   \n",
       "2     0.304562    0.190576    0.242715    0.059984  ...      0.588951   \n",
       "3     0.322145    0.197875    0.327782    0.683889  ...      0.219669   \n",
       "4     0.465277    0.274290    0.177519    0.218036  ...      0.199044   \n",
       "..         ...         ...         ...         ...  ...           ...   \n",
       "92    0.535597    0.228981    0.155537    0.402664  ...      0.424211   \n",
       "93    0.333644    0.473475    0.330545    0.350644  ...      0.458550   \n",
       "94    0.416679    0.320198    0.310576    0.477753  ...      0.004295   \n",
       "95    0.513736    0.311139    0.270945    0.490570  ...      0.342005   \n",
       "96    0.447421    0.177994    0.221872    0.573770  ...      0.776963   \n",
       "\n",
       "    features.110  features.111  features.112  features.113  features.114  \\\n",
       "0       0.390048      0.068589      0.239278      0.325062      0.221802   \n",
       "1       0.152374      0.009217      0.231085      0.415000      0.130759   \n",
       "2       0.264538      0.233772      0.360888      0.588951      0.343463   \n",
       "3       0.205674      0.121860      0.140276      0.219669      0.043324   \n",
       "4       0.056704      0.122244      0.547757      0.199044      0.273875   \n",
       "..           ...           ...           ...           ...           ...   \n",
       "92      0.167415      0.164574      0.266798      0.424211      0.268330   \n",
       "93      0.364114      0.124643      0.527569      0.458550      0.288735   \n",
       "94      0.264463      0.205981      0.345524      0.004295      0.402601   \n",
       "95      0.106542      0.058091      0.323474      0.342005      0.251820   \n",
       "96      0.092422      0.184247      0.208823      0.776963      0.242964   \n",
       "\n",
       "    features.115  features.116  features.117  class  \n",
       "0       0.325062      0.112128      0.068589      1  \n",
       "1       0.415000      0.085114      0.009217      1  \n",
       "2       0.588951      0.207494      0.233772      1  \n",
       "3       0.219669      0.016444      0.121860      0  \n",
       "4       0.199044      0.468982      0.122244      1  \n",
       "..           ...           ...           ...    ...  \n",
       "92      0.424211      0.039538      0.164574      0  \n",
       "93      0.458550      0.246396      0.124643      0  \n",
       "94      0.004295      0.169348      0.205981      0  \n",
       "95      0.342005      0.017518      0.058091      0  \n",
       "96      0.776963      0.075716      0.184247      0  \n",
       "\n",
       "[97 rows x 120 columns]"
      ]
     },
     "execution_count": 4,
     "metadata": {},
     "output_type": "execute_result"
    }
   ],
   "source": [
    "dataset"
   ]
  },
  {
   "cell_type": "code",
   "execution_count": null,
   "metadata": {},
   "outputs": [],
   "source": []
  },
  {
   "cell_type": "code",
   "execution_count": 5,
   "metadata": {},
   "outputs": [],
   "source": [
    "#data\n",
    "x=dataset.iloc[:,1:119]"
   ]
  },
  {
   "cell_type": "code",
   "execution_count": 6,
   "metadata": {},
   "outputs": [
    {
     "data": {
      "text/plain": [
       "array([[0.19308489, 0.45228756, 0.41594893, ..., 0.3250623 , 0.11212818,\n",
       "        0.06858944],\n",
       "       [0.45570698, 0.4007686 , 0.2327345 , ..., 0.41500016, 0.08511398,\n",
       "        0.00921664],\n",
       "       [0.21649563, 0.32278692, 0.32186135, ..., 0.58895088, 0.20749388,\n",
       "        0.2337724 ],\n",
       "       ...,\n",
       "       [0.31581502, 0.4383938 , 0.47139239, ..., 0.00429539, 0.16934839,\n",
       "        0.2059809 ],\n",
       "       [0.49452136, 0.38777006, 0.41711293, ..., 0.34200507, 0.01751812,\n",
       "        0.05809065],\n",
       "       [0.41862597, 0.46284019, 0.51459679, ..., 0.77696321, 0.07571643,\n",
       "        0.18424714]])"
      ]
     },
     "execution_count": 6,
     "metadata": {},
     "output_type": "execute_result"
    }
   ],
   "source": [
    "x.values"
   ]
  },
  {
   "cell_type": "code",
   "execution_count": 7,
   "metadata": {},
   "outputs": [
    {
     "data": {
      "text/plain": [
       "(97, 118)"
      ]
     },
     "execution_count": 7,
     "metadata": {},
     "output_type": "execute_result"
    }
   ],
   "source": [
    "x.shape"
   ]
  },
  {
   "cell_type": "code",
   "execution_count": 8,
   "metadata": {},
   "outputs": [],
   "source": [
    "#target\n",
    "y=dataset.iloc[:,-1]"
   ]
  },
  {
   "cell_type": "code",
   "execution_count": 9,
   "metadata": {},
   "outputs": [
    {
     "data": {
      "text/plain": [
       "array([1, 1, 1, 0, 1, 1, 0, 0, 0, 0, 0, 1, 0, 0, 0, 0, 0, 0, 0, 0, 1, 0,\n",
       "       0, 0, 0, 0, 0, 0, 0, 0, 0, 0, 0, 0, 0, 0, 0, 0, 0, 1, 0, 0, 1, 1,\n",
       "       0, 1, 0, 0, 0, 1, 0, 1, 0, 1, 1, 0, 1, 0, 0, 0, 0, 1, 0, 0, 0, 0,\n",
       "       0, 0, 0, 1, 0, 0, 0, 1, 1, 0, 0, 0, 0, 1, 0, 1, 0, 1, 0, 1, 0, 0,\n",
       "       0, 0, 0, 0, 0, 0, 0, 0, 0], dtype=int64)"
      ]
     },
     "execution_count": 9,
     "metadata": {},
     "output_type": "execute_result"
    }
   ],
   "source": [
    "y.values"
   ]
  },
  {
   "cell_type": "code",
   "execution_count": 10,
   "metadata": {},
   "outputs": [],
   "source": [
    "pca = PCA(n_components=1)\n",
    "x_pca = pca.fit(x).transform(x)"
   ]
  },
  {
   "cell_type": "code",
   "execution_count": 11,
   "metadata": {},
   "outputs": [
    {
     "data": {
      "text/plain": [
       "array([[ 1.66449841],\n",
       "       [ 1.63674589],\n",
       "       [ 1.26174286],\n",
       "       [ 1.88707276],\n",
       "       [ 2.03215613],\n",
       "       [ 1.6841334 ],\n",
       "       [ 1.86623851],\n",
       "       [ 1.24314411],\n",
       "       [ 1.11352431],\n",
       "       [ 1.64653989],\n",
       "       [ 1.68358356],\n",
       "       [ 1.81868443],\n",
       "       [ 2.00668274],\n",
       "       [ 1.79562983],\n",
       "       [ 2.56958458],\n",
       "       [ 1.44697941],\n",
       "       [ 1.92076798],\n",
       "       [ 1.36450637],\n",
       "       [ 1.14168039],\n",
       "       [-0.69257769],\n",
       "       [-0.75293531],\n",
       "       [-1.05978018],\n",
       "       [-0.83295238],\n",
       "       [-0.48947384],\n",
       "       [-0.95075574],\n",
       "       [-0.72178136],\n",
       "       [ 0.0332524 ],\n",
       "       [-1.10505854],\n",
       "       [ 0.20521227],\n",
       "       [-1.14767174],\n",
       "       [-1.15747312],\n",
       "       [-0.25074735],\n",
       "       [-0.84527912],\n",
       "       [-0.75745676],\n",
       "       [-0.59252581],\n",
       "       [-0.46074754],\n",
       "       [-0.81831024],\n",
       "       [-1.17724986],\n",
       "       [-1.42590263],\n",
       "       [-1.03103492],\n",
       "       [-0.92032427],\n",
       "       [-1.18684158],\n",
       "       [-0.87210662],\n",
       "       [-1.07331066],\n",
       "       [-0.56791965],\n",
       "       [-0.69184879],\n",
       "       [-0.6653021 ],\n",
       "       [-1.11369019],\n",
       "       [-0.58696909],\n",
       "       [-0.4663282 ],\n",
       "       [-0.39141851],\n",
       "       [-0.41533696],\n",
       "       [-0.51604539],\n",
       "       [ 0.47171942],\n",
       "       [-0.20289169],\n",
       "       [-1.10346864],\n",
       "       [-0.71999915],\n",
       "       [-0.43490821],\n",
       "       [-0.91786345],\n",
       "       [-1.04237361],\n",
       "       [ 1.24416191],\n",
       "       [-0.88542817],\n",
       "       [-0.98725454],\n",
       "       [-0.23430381],\n",
       "       [-0.64332144],\n",
       "       [-0.88449393],\n",
       "       [-0.86225691],\n",
       "       [-1.05916184],\n",
       "       [-0.66748868],\n",
       "       [-0.89438951],\n",
       "       [-0.95887499],\n",
       "       [-0.76955019],\n",
       "       [-0.92951399],\n",
       "       [-0.82548573],\n",
       "       [ 0.75928145],\n",
       "       [-1.17680478],\n",
       "       [-0.74188423],\n",
       "       [-0.90981593],\n",
       "       [-0.84765317],\n",
       "       [-0.47498473],\n",
       "       [-0.63751773],\n",
       "       [-0.06360418],\n",
       "       [-0.49985659],\n",
       "       [-0.896187  ],\n",
       "       [-0.50025377],\n",
       "       [-1.29377634],\n",
       "       [-0.03848645],\n",
       "       [ 1.51228537],\n",
       "       [ 0.81780223],\n",
       "       [ 1.38412849],\n",
       "       [ 1.7270928 ],\n",
       "       [ 1.22847437],\n",
       "       [ 1.67088581],\n",
       "       [ 1.84402988],\n",
       "       [ 1.57064088],\n",
       "       [ 1.57990243],\n",
       "       [ 1.00824429]])"
      ]
     },
     "execution_count": 11,
     "metadata": {},
     "output_type": "execute_result"
    }
   ],
   "source": [
    "x_pca"
   ]
  },
  {
   "cell_type": "code",
   "execution_count": 12,
   "metadata": {},
   "outputs": [],
   "source": [
    "Df_pca=pd.DataFrame(x_pca,columns=['PC'])#,'PC2','PC3'])"
   ]
  },
  {
   "cell_type": "code",
   "execution_count": 13,
   "metadata": {},
   "outputs": [],
   "source": [
    "res=pd.DataFrame(y,columns=['class'])"
   ]
  },
  {
   "cell_type": "code",
   "execution_count": 14,
   "metadata": {},
   "outputs": [],
   "source": [
    "Df_pca=pd.concat([Df_pca,res],axis=1)"
   ]
  },
  {
   "cell_type": "code",
   "execution_count": 15,
   "metadata": {},
   "outputs": [
    {
     "data": {
      "text/html": [
       "<div>\n",
       "<style scoped>\n",
       "    .dataframe tbody tr th:only-of-type {\n",
       "        vertical-align: middle;\n",
       "    }\n",
       "\n",
       "    .dataframe tbody tr th {\n",
       "        vertical-align: top;\n",
       "    }\n",
       "\n",
       "    .dataframe thead th {\n",
       "        text-align: right;\n",
       "    }\n",
       "</style>\n",
       "<table border=\"1\" class=\"dataframe\">\n",
       "  <thead>\n",
       "    <tr style=\"text-align: right;\">\n",
       "      <th></th>\n",
       "      <th>PC</th>\n",
       "      <th>class</th>\n",
       "    </tr>\n",
       "  </thead>\n",
       "  <tbody>\n",
       "    <tr>\n",
       "      <th>0</th>\n",
       "      <td>1.664498</td>\n",
       "      <td>1</td>\n",
       "    </tr>\n",
       "    <tr>\n",
       "      <th>1</th>\n",
       "      <td>1.636746</td>\n",
       "      <td>1</td>\n",
       "    </tr>\n",
       "    <tr>\n",
       "      <th>2</th>\n",
       "      <td>1.261743</td>\n",
       "      <td>1</td>\n",
       "    </tr>\n",
       "    <tr>\n",
       "      <th>3</th>\n",
       "      <td>1.887073</td>\n",
       "      <td>0</td>\n",
       "    </tr>\n",
       "    <tr>\n",
       "      <th>4</th>\n",
       "      <td>2.032156</td>\n",
       "      <td>1</td>\n",
       "    </tr>\n",
       "    <tr>\n",
       "      <th>...</th>\n",
       "      <td>...</td>\n",
       "      <td>...</td>\n",
       "    </tr>\n",
       "    <tr>\n",
       "      <th>92</th>\n",
       "      <td>1.670886</td>\n",
       "      <td>0</td>\n",
       "    </tr>\n",
       "    <tr>\n",
       "      <th>93</th>\n",
       "      <td>1.844030</td>\n",
       "      <td>0</td>\n",
       "    </tr>\n",
       "    <tr>\n",
       "      <th>94</th>\n",
       "      <td>1.570641</td>\n",
       "      <td>0</td>\n",
       "    </tr>\n",
       "    <tr>\n",
       "      <th>95</th>\n",
       "      <td>1.579902</td>\n",
       "      <td>0</td>\n",
       "    </tr>\n",
       "    <tr>\n",
       "      <th>96</th>\n",
       "      <td>1.008244</td>\n",
       "      <td>0</td>\n",
       "    </tr>\n",
       "  </tbody>\n",
       "</table>\n",
       "<p>97 rows × 2 columns</p>\n",
       "</div>"
      ],
      "text/plain": [
       "          PC  class\n",
       "0   1.664498      1\n",
       "1   1.636746      1\n",
       "2   1.261743      1\n",
       "3   1.887073      0\n",
       "4   2.032156      1\n",
       "..       ...    ...\n",
       "92  1.670886      0\n",
       "93  1.844030      0\n",
       "94  1.570641      0\n",
       "95  1.579902      0\n",
       "96  1.008244      0\n",
       "\n",
       "[97 rows x 2 columns]"
      ]
     },
     "execution_count": 15,
     "metadata": {},
     "output_type": "execute_result"
    }
   ],
   "source": [
    "Df_pca"
   ]
  },
  {
   "cell_type": "code",
   "execution_count": 16,
   "metadata": {},
   "outputs": [],
   "source": [
    "class1=Df_pca.loc[Df_pca['class'] == 1]"
   ]
  },
  {
   "cell_type": "code",
   "execution_count": 17,
   "metadata": {},
   "outputs": [
    {
     "data": {
      "text/plain": [
       "array([[ 1.66449841,  1.        ],\n",
       "       [ 1.63674589,  1.        ],\n",
       "       [ 1.26174286,  1.        ],\n",
       "       [ 2.03215613,  1.        ],\n",
       "       [ 1.6841334 ,  1.        ],\n",
       "       [ 1.81868443,  1.        ],\n",
       "       [-0.75293531,  1.        ],\n",
       "       [-1.03103492,  1.        ],\n",
       "       [-0.87210662,  1.        ],\n",
       "       [-1.07331066,  1.        ],\n",
       "       [-0.69184879,  1.        ],\n",
       "       [-0.4663282 ,  1.        ],\n",
       "       [-0.41533696,  1.        ],\n",
       "       [ 0.47171942,  1.        ],\n",
       "       [-0.20289169,  1.        ],\n",
       "       [-0.71999915,  1.        ],\n",
       "       [-0.88542817,  1.        ],\n",
       "       [-0.89438951,  1.        ],\n",
       "       [-0.82548573,  1.        ],\n",
       "       [ 0.75928145,  1.        ],\n",
       "       [-0.47498473,  1.        ],\n",
       "       [-0.06360418,  1.        ],\n",
       "       [-0.896187  ,  1.        ],\n",
       "       [-1.29377634,  1.        ]])"
      ]
     },
     "execution_count": 17,
     "metadata": {},
     "output_type": "execute_result"
    }
   ],
   "source": [
    "class1.values"
   ]
  },
  {
   "cell_type": "code",
   "execution_count": 18,
   "metadata": {},
   "outputs": [
    {
     "data": {
      "text/plain": [
       "(24, 1)"
      ]
     },
     "execution_count": 18,
     "metadata": {},
     "output_type": "execute_result"
    }
   ],
   "source": [
    "PC1=class1.iloc[:,0:1].values\n",
    "PC1.shape"
   ]
  },
  {
   "cell_type": "code",
   "execution_count": null,
   "metadata": {},
   "outputs": [],
   "source": []
  },
  {
   "cell_type": "code",
   "execution_count": 19,
   "metadata": {},
   "outputs": [],
   "source": [
    "class0=Df_pca.loc[Df_pca['class'] == 0]"
   ]
  },
  {
   "cell_type": "code",
   "execution_count": 20,
   "metadata": {},
   "outputs": [
    {
     "data": {
      "text/plain": [
       "array([[ 1.88707276,  0.        ],\n",
       "       [ 1.86623851,  0.        ],\n",
       "       [ 1.24314411,  0.        ],\n",
       "       [ 1.11352431,  0.        ],\n",
       "       [ 1.64653989,  0.        ],\n",
       "       [ 1.68358356,  0.        ],\n",
       "       [ 2.00668274,  0.        ],\n",
       "       [ 1.79562983,  0.        ],\n",
       "       [ 2.56958458,  0.        ],\n",
       "       [ 1.44697941,  0.        ],\n",
       "       [ 1.92076798,  0.        ],\n",
       "       [ 1.36450637,  0.        ],\n",
       "       [ 1.14168039,  0.        ],\n",
       "       [-0.69257769,  0.        ],\n",
       "       [-1.05978018,  0.        ],\n",
       "       [-0.83295238,  0.        ],\n",
       "       [-0.48947384,  0.        ],\n",
       "       [-0.95075574,  0.        ],\n",
       "       [-0.72178136,  0.        ],\n",
       "       [ 0.0332524 ,  0.        ],\n",
       "       [-1.10505854,  0.        ],\n",
       "       [ 0.20521227,  0.        ],\n",
       "       [-1.14767174,  0.        ],\n",
       "       [-1.15747312,  0.        ],\n",
       "       [-0.25074735,  0.        ],\n",
       "       [-0.84527912,  0.        ],\n",
       "       [-0.75745676,  0.        ],\n",
       "       [-0.59252581,  0.        ],\n",
       "       [-0.46074754,  0.        ],\n",
       "       [-0.81831024,  0.        ],\n",
       "       [-1.17724986,  0.        ],\n",
       "       [-1.42590263,  0.        ],\n",
       "       [-0.92032427,  0.        ],\n",
       "       [-1.18684158,  0.        ],\n",
       "       [-0.56791965,  0.        ],\n",
       "       [-0.6653021 ,  0.        ],\n",
       "       [-1.11369019,  0.        ],\n",
       "       [-0.58696909,  0.        ],\n",
       "       [-0.39141851,  0.        ],\n",
       "       [-0.51604539,  0.        ],\n",
       "       [-1.10346864,  0.        ],\n",
       "       [-0.43490821,  0.        ],\n",
       "       [-0.91786345,  0.        ],\n",
       "       [-1.04237361,  0.        ],\n",
       "       [ 1.24416191,  0.        ],\n",
       "       [-0.98725454,  0.        ],\n",
       "       [-0.23430381,  0.        ],\n",
       "       [-0.64332144,  0.        ],\n",
       "       [-0.88449393,  0.        ],\n",
       "       [-0.86225691,  0.        ],\n",
       "       [-1.05916184,  0.        ],\n",
       "       [-0.66748868,  0.        ],\n",
       "       [-0.95887499,  0.        ],\n",
       "       [-0.76955019,  0.        ],\n",
       "       [-0.92951399,  0.        ],\n",
       "       [-1.17680478,  0.        ],\n",
       "       [-0.74188423,  0.        ],\n",
       "       [-0.90981593,  0.        ],\n",
       "       [-0.84765317,  0.        ],\n",
       "       [-0.63751773,  0.        ],\n",
       "       [-0.49985659,  0.        ],\n",
       "       [-0.50025377,  0.        ],\n",
       "       [-0.03848645,  0.        ],\n",
       "       [ 1.51228537,  0.        ],\n",
       "       [ 0.81780223,  0.        ],\n",
       "       [ 1.38412849,  0.        ],\n",
       "       [ 1.7270928 ,  0.        ],\n",
       "       [ 1.22847437,  0.        ],\n",
       "       [ 1.67088581,  0.        ],\n",
       "       [ 1.84402988,  0.        ],\n",
       "       [ 1.57064088,  0.        ],\n",
       "       [ 1.57990243,  0.        ],\n",
       "       [ 1.00824429,  0.        ]])"
      ]
     },
     "execution_count": 20,
     "metadata": {},
     "output_type": "execute_result"
    }
   ],
   "source": [
    "class0.values"
   ]
  },
  {
   "cell_type": "code",
   "execution_count": 21,
   "metadata": {},
   "outputs": [
    {
     "data": {
      "text/plain": [
       "(73, 1)"
      ]
     },
     "execution_count": 21,
     "metadata": {},
     "output_type": "execute_result"
    }
   ],
   "source": [
    "PC2=class0.iloc[:,0:1].values\n",
    "PC2.shape"
   ]
  },
  {
   "cell_type": "code",
   "execution_count": 22,
   "metadata": {},
   "outputs": [
    {
     "data": {
      "image/png": "[encoded data removed]",
      "text/plain": [
       "<Figure size 576x432 with 1 Axes>"
      ]
     },
     "metadata": {
      "needs_background": "light"
     },
     "output_type": "display_data"
    }
   ],
   "source": [
    "plt.figure(figsize = (8,6))\n",
    "\n",
    "s1 = np.arange(0,24)\n",
    "s0 = np.arange(0,73)\n",
    "plt.scatter(PC1,s1,color='red',label='class1')\n",
    "plt.scatter(PC2,s0,color='blue',label='class0')\n",
    "plt.title(\"Principal Component Analysis\")\n",
    "plt.legend()\n",
    "plt.savefig('Principal Component Analysis.png')\n",
    "plt.show()\n"
   ]
  },
  {
   "cell_type": "code",
   "execution_count": 23,
   "metadata": {},
   "outputs": [],
   "source": [
    "#########LDA Algorithm#####"
   ]
  },
  {
   "cell_type": "code",
   "execution_count": 24,
   "metadata": {},
   "outputs": [],
   "source": [
    "x=dataset.iloc[:,1:119]"
   ]
  },
  {
   "cell_type": "code",
   "execution_count": 25,
   "metadata": {},
   "outputs": [
    {
     "data": {
      "text/plain": [
       "array([[0.19308489, 0.45228756, 0.41594893, ..., 0.3250623 , 0.11212818,\n",
       "        0.06858944],\n",
       "       [0.45570698, 0.4007686 , 0.2327345 , ..., 0.41500016, 0.08511398,\n",
       "        0.00921664],\n",
       "       [0.21649563, 0.32278692, 0.32186135, ..., 0.58895088, 0.20749388,\n",
       "        0.2337724 ],\n",
       "       ...,\n",
       "       [0.31581502, 0.4383938 , 0.47139239, ..., 0.00429539, 0.16934839,\n",
       "        0.2059809 ],\n",
       "       [0.49452136, 0.38777006, 0.41711293, ..., 0.34200507, 0.01751812,\n",
       "        0.05809065],\n",
       "       [0.41862597, 0.46284019, 0.51459679, ..., 0.77696321, 0.07571643,\n",
       "        0.18424714]])"
      ]
     },
     "execution_count": 25,
     "metadata": {},
     "output_type": "execute_result"
    }
   ],
   "source": [
    "x.values"
   ]
  },
  {
   "cell_type": "code",
   "execution_count": 26,
   "metadata": {},
   "outputs": [],
   "source": [
    "y=dataset.iloc[:,-1]"
   ]
  },
  {
   "cell_type": "code",
   "execution_count": 27,
   "metadata": {},
   "outputs": [
    {
     "data": {
      "text/plain": [
       "array([1, 1, 1, 0, 1, 1, 0, 0, 0, 0, 0, 1, 0, 0, 0, 0, 0, 0, 0, 0, 1, 0,\n",
       "       0, 0, 0, 0, 0, 0, 0, 0, 0, 0, 0, 0, 0, 0, 0, 0, 0, 1, 0, 0, 1, 1,\n",
       "       0, 1, 0, 0, 0, 1, 0, 1, 0, 1, 1, 0, 1, 0, 0, 0, 0, 1, 0, 0, 0, 0,\n",
       "       0, 0, 0, 1, 0, 0, 0, 1, 1, 0, 0, 0, 0, 1, 0, 1, 0, 1, 0, 1, 0, 0,\n",
       "       0, 0, 0, 0, 0, 0, 0, 0, 0], dtype=int64)"
      ]
     },
     "execution_count": 27,
     "metadata": {},
     "output_type": "execute_result"
    }
   ],
   "source": [
    "y.values"
   ]
  },
  {
   "cell_type": "code",
   "execution_count": 28,
   "metadata": {},
   "outputs": [],
   "source": [
    "lda = LinearDiscriminantAnalysis(n_components=1)\n",
    "x_lda = lda.fit(x,y).transform(x)\n"
   ]
  },
  {
   "cell_type": "code",
   "execution_count": 29,
   "metadata": {},
   "outputs": [
    {
     "data": {
      "text/plain": [
       "array([[ 8.475809  ],\n",
       "       [ 7.4440026 ],\n",
       "       [ 9.9262605 ],\n",
       "       [-2.41637989],\n",
       "       [ 8.9408432 ],\n",
       "       [ 7.05802544],\n",
       "       [-4.67488161],\n",
       "       [-2.54539717],\n",
       "       [-3.13390785],\n",
       "       [-1.47848819],\n",
       "       [-2.7331184 ],\n",
       "       [ 9.30998464],\n",
       "       [-2.3591715 ],\n",
       "       [-3.32240309],\n",
       "       [-2.49484964],\n",
       "       [-2.40435444],\n",
       "       [-2.81020565],\n",
       "       [-2.72241229],\n",
       "       [-2.60605418],\n",
       "       [-2.21660446],\n",
       "       [10.65945752],\n",
       "       [-6.67320133],\n",
       "       [-2.87862067],\n",
       "       [-1.93514437],\n",
       "       [-3.41092466],\n",
       "       [-2.51372469],\n",
       "       [-3.44954168],\n",
       "       [-5.91322481],\n",
       "       [-3.36894156],\n",
       "       [ 0.33373603],\n",
       "       [-2.11360823],\n",
       "       [-3.59229087],\n",
       "       [-4.06519797],\n",
       "       [-2.6142731 ],\n",
       "       [-3.63209589],\n",
       "       [-3.40962778],\n",
       "       [-2.51545912],\n",
       "       [-2.94182516],\n",
       "       [-2.29155292],\n",
       "       [ 9.63069622],\n",
       "       [-3.16339598],\n",
       "       [-2.68297662],\n",
       "       [ 8.82602367],\n",
       "       [ 9.40585122],\n",
       "       [-2.30206917],\n",
       "       [ 8.4593827 ],\n",
       "       [-2.76146008],\n",
       "       [-2.75824538],\n",
       "       [-3.86086905],\n",
       "       [ 8.37054795],\n",
       "       [-2.85021295],\n",
       "       [ 8.57539014],\n",
       "       [-3.44011871],\n",
       "       [ 9.61227561],\n",
       "       [ 9.71696787],\n",
       "       [-3.02069023],\n",
       "       [10.102169  ],\n",
       "       [-3.67043576],\n",
       "       [-4.33519648],\n",
       "       [-1.90819851],\n",
       "       [-2.83915283],\n",
       "       [ 8.47998451],\n",
       "       [-0.83274162],\n",
       "       [-1.79791946],\n",
       "       [-3.02831144],\n",
       "       [-3.63244512],\n",
       "       [-1.95614463],\n",
       "       [-3.11776253],\n",
       "       [-3.40883365],\n",
       "       [ 8.08750164],\n",
       "       [-4.90061706],\n",
       "       [-2.89734076],\n",
       "       [-1.31348916],\n",
       "       [ 9.53355931],\n",
       "       [ 9.41651594],\n",
       "       [-2.80298848],\n",
       "       [-2.44601683],\n",
       "       [-2.61520629],\n",
       "       [-3.35612209],\n",
       "       [ 9.16956608],\n",
       "       [-3.99668634],\n",
       "       [ 8.39189818],\n",
       "       [-2.91282806],\n",
       "       [ 7.9564954 ],\n",
       "       [-2.36439574],\n",
       "       [ 8.80884602],\n",
       "       [-2.911875  ],\n",
       "       [-0.99408331],\n",
       "       [-2.69218195],\n",
       "       [-5.16467254],\n",
       "       [-3.03120165],\n",
       "       [-3.40971316],\n",
       "       [-2.36220686],\n",
       "       [-3.08458113],\n",
       "       [-3.81488046],\n",
       "       [-2.26705131],\n",
       "       [-2.74898882]])"
      ]
     },
     "execution_count": 29,
     "metadata": {},
     "output_type": "execute_result"
    }
   ],
   "source": [
    "x_lda"
   ]
  },
  {
   "cell_type": "code",
   "execution_count": 30,
   "metadata": {},
   "outputs": [],
   "source": [
    "Df_lda=pd.DataFrame(x_lda,columns=['PC'])"
   ]
  },
  {
   "cell_type": "code",
   "execution_count": 423,
   "metadata": {},
   "outputs": [
    {
     "data": {
      "text/html": [
       "<div>\n",
       "<style scoped>\n",
       "    .dataframe tbody tr th:only-of-type {\n",
       "        vertical-align: middle;\n",
       "    }\n",
       "\n",
       "    .dataframe tbody tr th {\n",
       "        vertical-align: top;\n",
       "    }\n",
       "\n",
       "    .dataframe thead th {\n",
       "        text-align: right;\n",
       "    }\n",
       "</style>\n",
       "<table border=\"1\" class=\"dataframe\">\n",
       "  <thead>\n",
       "    <tr style=\"text-align: right;\">\n",
       "      <th></th>\n",
       "      <th>PC</th>\n",
       "    </tr>\n",
       "  </thead>\n",
       "  <tbody>\n",
       "    <tr>\n",
       "      <th>0</th>\n",
       "      <td>8.475809</td>\n",
       "    </tr>\n",
       "    <tr>\n",
       "      <th>1</th>\n",
       "      <td>7.444003</td>\n",
       "    </tr>\n",
       "    <tr>\n",
       "      <th>2</th>\n",
       "      <td>9.926260</td>\n",
       "    </tr>\n",
       "    <tr>\n",
       "      <th>3</th>\n",
       "      <td>-2.416380</td>\n",
       "    </tr>\n",
       "    <tr>\n",
       "      <th>4</th>\n",
       "      <td>8.940843</td>\n",
       "    </tr>\n",
       "    <tr>\n",
       "      <th>...</th>\n",
       "      <td>...</td>\n",
       "    </tr>\n",
       "    <tr>\n",
       "      <th>92</th>\n",
       "      <td>-2.362207</td>\n",
       "    </tr>\n",
       "    <tr>\n",
       "      <th>93</th>\n",
       "      <td>-3.084581</td>\n",
       "    </tr>\n",
       "    <tr>\n",
       "      <th>94</th>\n",
       "      <td>-3.814880</td>\n",
       "    </tr>\n",
       "    <tr>\n",
       "      <th>95</th>\n",
       "      <td>-2.267051</td>\n",
       "    </tr>\n",
       "    <tr>\n",
       "      <th>96</th>\n",
       "      <td>-2.748989</td>\n",
       "    </tr>\n",
       "  </tbody>\n",
       "</table>\n",
       "<p>97 rows × 1 columns</p>\n",
       "</div>"
      ],
      "text/plain": [
       "          PC\n",
       "0   8.475809\n",
       "1   7.444003\n",
       "2   9.926260\n",
       "3  -2.416380\n",
       "4   8.940843\n",
       "..       ...\n",
       "92 -2.362207\n",
       "93 -3.084581\n",
       "94 -3.814880\n",
       "95 -2.267051\n",
       "96 -2.748989\n",
       "\n",
       "[97 rows x 1 columns]"
      ]
     },
     "execution_count": 423,
     "metadata": {},
     "output_type": "execute_result"
    }
   ],
   "source": [
    "Df_lda"
   ]
  },
  {
   "cell_type": "code",
   "execution_count": 424,
   "metadata": {},
   "outputs": [],
   "source": [
    "res=pd.DataFrame(y,columns=['class'])"
   ]
  },
  {
   "cell_type": "code",
   "execution_count": 425,
   "metadata": {},
   "outputs": [],
   "source": [
    "Df_lda=pd.concat([Df_lda,res],axis=1)"
   ]
  },
  {
   "cell_type": "code",
   "execution_count": 426,
   "metadata": {},
   "outputs": [
    {
     "data": {
      "text/html": [
       "<div>\n",
       "<style scoped>\n",
       "    .dataframe tbody tr th:only-of-type {\n",
       "        vertical-align: middle;\n",
       "    }\n",
       "\n",
       "    .dataframe tbody tr th {\n",
       "        vertical-align: top;\n",
       "    }\n",
       "\n",
       "    .dataframe thead th {\n",
       "        text-align: right;\n",
       "    }\n",
       "</style>\n",
       "<table border=\"1\" class=\"dataframe\">\n",
       "  <thead>\n",
       "    <tr style=\"text-align: right;\">\n",
       "      <th></th>\n",
       "      <th>PC</th>\n",
       "      <th>class</th>\n",
       "    </tr>\n",
       "  </thead>\n",
       "  <tbody>\n",
       "    <tr>\n",
       "      <th>0</th>\n",
       "      <td>8.475809</td>\n",
       "      <td>1</td>\n",
       "    </tr>\n",
       "    <tr>\n",
       "      <th>1</th>\n",
       "      <td>7.444003</td>\n",
       "      <td>1</td>\n",
       "    </tr>\n",
       "    <tr>\n",
       "      <th>2</th>\n",
       "      <td>9.926260</td>\n",
       "      <td>1</td>\n",
       "    </tr>\n",
       "    <tr>\n",
       "      <th>3</th>\n",
       "      <td>-2.416380</td>\n",
       "      <td>0</td>\n",
       "    </tr>\n",
       "    <tr>\n",
       "      <th>4</th>\n",
       "      <td>8.940843</td>\n",
       "      <td>1</td>\n",
       "    </tr>\n",
       "    <tr>\n",
       "      <th>...</th>\n",
       "      <td>...</td>\n",
       "      <td>...</td>\n",
       "    </tr>\n",
       "    <tr>\n",
       "      <th>92</th>\n",
       "      <td>-2.362207</td>\n",
       "      <td>0</td>\n",
       "    </tr>\n",
       "    <tr>\n",
       "      <th>93</th>\n",
       "      <td>-3.084581</td>\n",
       "      <td>0</td>\n",
       "    </tr>\n",
       "    <tr>\n",
       "      <th>94</th>\n",
       "      <td>-3.814880</td>\n",
       "      <td>0</td>\n",
       "    </tr>\n",
       "    <tr>\n",
       "      <th>95</th>\n",
       "      <td>-2.267051</td>\n",
       "      <td>0</td>\n",
       "    </tr>\n",
       "    <tr>\n",
       "      <th>96</th>\n",
       "      <td>-2.748989</td>\n",
       "      <td>0</td>\n",
       "    </tr>\n",
       "  </tbody>\n",
       "</table>\n",
       "<p>97 rows × 2 columns</p>\n",
       "</div>"
      ],
      "text/plain": [
       "          PC  class\n",
       "0   8.475809      1\n",
       "1   7.444003      1\n",
       "2   9.926260      1\n",
       "3  -2.416380      0\n",
       "4   8.940843      1\n",
       "..       ...    ...\n",
       "92 -2.362207      0\n",
       "93 -3.084581      0\n",
       "94 -3.814880      0\n",
       "95 -2.267051      0\n",
       "96 -2.748989      0\n",
       "\n",
       "[97 rows x 2 columns]"
      ]
     },
     "execution_count": 426,
     "metadata": {},
     "output_type": "execute_result"
    }
   ],
   "source": [
    "Df_lda"
   ]
  },
  {
   "cell_type": "code",
   "execution_count": 427,
   "metadata": {},
   "outputs": [
    {
     "data": {
      "text/plain": [
       "array([[ 8.475809  ],\n",
       "       [ 7.4440026 ],\n",
       "       [ 9.9262605 ],\n",
       "       [-2.41637989],\n",
       "       [ 8.9408432 ],\n",
       "       [ 7.05802544],\n",
       "       [-4.67488161],\n",
       "       [-2.54539717],\n",
       "       [-3.13390785],\n",
       "       [-1.47848819],\n",
       "       [-2.7331184 ],\n",
       "       [ 9.30998464],\n",
       "       [-2.3591715 ],\n",
       "       [-3.32240309],\n",
       "       [-2.49484964],\n",
       "       [-2.40435444],\n",
       "       [-2.81020565],\n",
       "       [-2.72241229],\n",
       "       [-2.60605418],\n",
       "       [-2.21660446],\n",
       "       [10.65945752],\n",
       "       [-6.67320133],\n",
       "       [-2.87862067],\n",
       "       [-1.93514437],\n",
       "       [-3.41092466],\n",
       "       [-2.51372469],\n",
       "       [-3.44954168],\n",
       "       [-5.91322481],\n",
       "       [-3.36894156],\n",
       "       [ 0.33373603],\n",
       "       [-2.11360823],\n",
       "       [-3.59229087],\n",
       "       [-4.06519797],\n",
       "       [-2.6142731 ],\n",
       "       [-3.63209589],\n",
       "       [-3.40962778],\n",
       "       [-2.51545912],\n",
       "       [-2.94182516],\n",
       "       [-2.29155292],\n",
       "       [ 9.63069622],\n",
       "       [-3.16339598],\n",
       "       [-2.68297662],\n",
       "       [ 8.82602367],\n",
       "       [ 9.40585122],\n",
       "       [-2.30206917],\n",
       "       [ 8.4593827 ],\n",
       "       [-2.76146008],\n",
       "       [-2.75824538],\n",
       "       [-3.86086905],\n",
       "       [ 8.37054795],\n",
       "       [-2.85021295],\n",
       "       [ 8.57539014],\n",
       "       [-3.44011871],\n",
       "       [ 9.61227561],\n",
       "       [ 9.71696787],\n",
       "       [-3.02069023],\n",
       "       [10.102169  ],\n",
       "       [-3.67043576],\n",
       "       [-4.33519648],\n",
       "       [-1.90819851],\n",
       "       [-2.83915283],\n",
       "       [ 8.47998451],\n",
       "       [-0.83274162],\n",
       "       [-1.79791946],\n",
       "       [-3.02831144],\n",
       "       [-3.63244512],\n",
       "       [-1.95614463],\n",
       "       [-3.11776253],\n",
       "       [-3.40883365],\n",
       "       [ 8.08750164],\n",
       "       [-4.90061706],\n",
       "       [-2.89734076],\n",
       "       [-1.31348916],\n",
       "       [ 9.53355931],\n",
       "       [ 9.41651594],\n",
       "       [-2.80298848],\n",
       "       [-2.44601683],\n",
       "       [-2.61520629],\n",
       "       [-3.35612209],\n",
       "       [ 9.16956608],\n",
       "       [-3.99668634],\n",
       "       [ 8.39189818],\n",
       "       [-2.91282806],\n",
       "       [ 7.9564954 ],\n",
       "       [-2.36439574],\n",
       "       [ 8.80884602],\n",
       "       [-2.911875  ],\n",
       "       [-0.99408331],\n",
       "       [-2.69218195],\n",
       "       [-5.16467254],\n",
       "       [-3.03120165],\n",
       "       [-3.40971316],\n",
       "       [-2.36220686],\n",
       "       [-3.08458113],\n",
       "       [-3.81488046],\n",
       "       [-2.26705131],\n",
       "       [-2.74898882]])"
      ]
     },
     "execution_count": 427,
     "metadata": {},
     "output_type": "execute_result"
    }
   ],
   "source": [
    "PC1=Df_lda.iloc[:,0:1].values\n",
    "PC1"
   ]
  },
  {
   "cell_type": "code",
   "execution_count": 428,
   "metadata": {},
   "outputs": [],
   "source": [
    "class1=Df_lda.loc[Df_lda['class'] == 1]"
   ]
  },
  {
   "cell_type": "code",
   "execution_count": 429,
   "metadata": {
    "scrolled": true
   },
   "outputs": [
    {
     "data": {
      "text/plain": [
       "array([[ 8.475809  ,  1.        ],\n",
       "       [ 7.4440026 ,  1.        ],\n",
       "       [ 9.9262605 ,  1.        ],\n",
       "       [ 8.9408432 ,  1.        ],\n",
       "       [ 7.05802544,  1.        ],\n",
       "       [ 9.30998464,  1.        ],\n",
       "       [10.65945752,  1.        ],\n",
       "       [ 9.63069622,  1.        ],\n",
       "       [ 8.82602367,  1.        ],\n",
       "       [ 9.40585122,  1.        ],\n",
       "       [ 8.4593827 ,  1.        ],\n",
       "       [ 8.37054795,  1.        ],\n",
       "       [ 8.57539014,  1.        ],\n",
       "       [ 9.61227561,  1.        ],\n",
       "       [ 9.71696787,  1.        ],\n",
       "       [10.102169  ,  1.        ],\n",
       "       [ 8.47998451,  1.        ],\n",
       "       [ 8.08750164,  1.        ],\n",
       "       [ 9.53355931,  1.        ],\n",
       "       [ 9.41651594,  1.        ],\n",
       "       [ 9.16956608,  1.        ],\n",
       "       [ 8.39189818,  1.        ],\n",
       "       [ 7.9564954 ,  1.        ],\n",
       "       [ 8.80884602,  1.        ]])"
      ]
     },
     "execution_count": 429,
     "metadata": {},
     "output_type": "execute_result"
    }
   ],
   "source": [
    "class1.values"
   ]
  },
  {
   "cell_type": "code",
   "execution_count": 430,
   "metadata": {},
   "outputs": [],
   "source": [
    "pc11=class1.PC"
   ]
  },
  {
   "cell_type": "code",
   "execution_count": 431,
   "metadata": {},
   "outputs": [
    {
     "data": {
      "text/plain": [
       "(24,)"
      ]
     },
     "execution_count": 431,
     "metadata": {},
     "output_type": "execute_result"
    }
   ],
   "source": [
    "pc11.values\n",
    "pc11.shape"
   ]
  },
  {
   "cell_type": "code",
   "execution_count": 432,
   "metadata": {},
   "outputs": [],
   "source": [
    "class0=Df_lda.loc[Df_lda['class'] == 0]"
   ]
  },
  {
   "cell_type": "code",
   "execution_count": 433,
   "metadata": {},
   "outputs": [
    {
     "data": {
      "text/plain": [
       "array([[-2.41637989,  0.        ],\n",
       "       [-4.67488161,  0.        ],\n",
       "       [-2.54539717,  0.        ],\n",
       "       [-3.13390785,  0.        ],\n",
       "       [-1.47848819,  0.        ],\n",
       "       [-2.7331184 ,  0.        ],\n",
       "       [-2.3591715 ,  0.        ],\n",
       "       [-3.32240309,  0.        ],\n",
       "       [-2.49484964,  0.        ],\n",
       "       [-2.40435444,  0.        ],\n",
       "       [-2.81020565,  0.        ],\n",
       "       [-2.72241229,  0.        ],\n",
       "       [-2.60605418,  0.        ],\n",
       "       [-2.21660446,  0.        ],\n",
       "       [-6.67320133,  0.        ],\n",
       "       [-2.87862067,  0.        ],\n",
       "       [-1.93514437,  0.        ],\n",
       "       [-3.41092466,  0.        ],\n",
       "       [-2.51372469,  0.        ],\n",
       "       [-3.44954168,  0.        ],\n",
       "       [-5.91322481,  0.        ],\n",
       "       [-3.36894156,  0.        ],\n",
       "       [ 0.33373603,  0.        ],\n",
       "       [-2.11360823,  0.        ],\n",
       "       [-3.59229087,  0.        ],\n",
       "       [-4.06519797,  0.        ],\n",
       "       [-2.6142731 ,  0.        ],\n",
       "       [-3.63209589,  0.        ],\n",
       "       [-3.40962778,  0.        ],\n",
       "       [-2.51545912,  0.        ],\n",
       "       [-2.94182516,  0.        ],\n",
       "       [-2.29155292,  0.        ],\n",
       "       [-3.16339598,  0.        ],\n",
       "       [-2.68297662,  0.        ],\n",
       "       [-2.30206917,  0.        ],\n",
       "       [-2.76146008,  0.        ],\n",
       "       [-2.75824538,  0.        ],\n",
       "       [-3.86086905,  0.        ],\n",
       "       [-2.85021295,  0.        ],\n",
       "       [-3.44011871,  0.        ],\n",
       "       [-3.02069023,  0.        ],\n",
       "       [-3.67043576,  0.        ],\n",
       "       [-4.33519648,  0.        ],\n",
       "       [-1.90819851,  0.        ],\n",
       "       [-2.83915283,  0.        ],\n",
       "       [-0.83274162,  0.        ],\n",
       "       [-1.79791946,  0.        ],\n",
       "       [-3.02831144,  0.        ],\n",
       "       [-3.63244512,  0.        ],\n",
       "       [-1.95614463,  0.        ],\n",
       "       [-3.11776253,  0.        ],\n",
       "       [-3.40883365,  0.        ],\n",
       "       [-4.90061706,  0.        ],\n",
       "       [-2.89734076,  0.        ],\n",
       "       [-1.31348916,  0.        ],\n",
       "       [-2.80298848,  0.        ],\n",
       "       [-2.44601683,  0.        ],\n",
       "       [-2.61520629,  0.        ],\n",
       "       [-3.35612209,  0.        ],\n",
       "       [-3.99668634,  0.        ],\n",
       "       [-2.91282806,  0.        ],\n",
       "       [-2.36439574,  0.        ],\n",
       "       [-2.911875  ,  0.        ],\n",
       "       [-0.99408331,  0.        ],\n",
       "       [-2.69218195,  0.        ],\n",
       "       [-5.16467254,  0.        ],\n",
       "       [-3.03120165,  0.        ],\n",
       "       [-3.40971316,  0.        ],\n",
       "       [-2.36220686,  0.        ],\n",
       "       [-3.08458113,  0.        ],\n",
       "       [-3.81488046,  0.        ],\n",
       "       [-2.26705131,  0.        ],\n",
       "       [-2.74898882,  0.        ]])"
      ]
     },
     "execution_count": 433,
     "metadata": {},
     "output_type": "execute_result"
    }
   ],
   "source": [
    "class0.values"
   ]
  },
  {
   "cell_type": "code",
   "execution_count": 434,
   "metadata": {},
   "outputs": [],
   "source": [
    "pc10=class0.PC"
   ]
  },
  {
   "cell_type": "code",
   "execution_count": 435,
   "metadata": {},
   "outputs": [
    {
     "data": {
      "text/plain": [
       "(73,)"
      ]
     },
     "execution_count": 435,
     "metadata": {},
     "output_type": "execute_result"
    }
   ],
   "source": [
    "pc10.values\n",
    "pc10.shape"
   ]
  },
  {
   "cell_type": "code",
   "execution_count": 436,
   "metadata": {},
   "outputs": [
    {
     "data": {
      "image/png": "[encoded data removed]",
      "text/plain": [
       "<Figure size 576x432 with 1 Axes>"
      ]
     },
     "metadata": {
      "needs_background": "light"
     },
     "output_type": "display_data"
    }
   ],
   "source": [
    "plt.figure(figsize = (8,6))\n",
    "\n",
    "s3 = np.arange(0,24)\n",
    "s4 = np.arange(0,73)\n",
    "plt.scatter(pc11,s3,color='red',label='class1')\n",
    "plt.scatter(pc10,s4,color='blue',label='class0')\n",
    "plt.title(\"Linear Discriminant Analysis \")\n",
    "plt.legend()\n",
    "plt.savefig('Linear Discriminant Analysis.png')\n",
    "plt.show()\n"
   ]
  },
  {
   "cell_type": "code",
   "execution_count": null,
   "metadata": {},
   "outputs": [],
   "source": []
  },
  {
   "cell_type": "code",
   "execution_count": null,
   "metadata": {},
   "outputs": [],
   "source": []
  },
  {
   "cell_type": "code",
   "execution_count": null,
   "metadata": {},
   "outputs": [],
   "source": []
  },
  {
   "cell_type": "code",
   "execution_count": null,
   "metadata": {},
   "outputs": [],
   "source": []
  }
 ],
 "metadata": {
  "kernelspec": {
   "display_name": "Python 3",
   "language": "python",
   "name": "python3"
  },
  "language_info": {
   "codemirror_mode": {
    "name": "ipython",
    "version": 3
   },
   "file_extension": ".py",
   "mimetype": "text/x-python",
   "name": "python",
   "nbconvert_exporter": "python",
   "pygments_lexer": "ipython3",
   "version": "3.8.8"
  }
 },
 "nbformat": 4,
 "nbformat_minor": 4
}
